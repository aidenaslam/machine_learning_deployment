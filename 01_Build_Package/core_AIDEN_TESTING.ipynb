{
 "cells": [
  {
   "cell_type": "code",
   "execution_count": 1,
   "metadata": {},
   "outputs": [],
   "source": [
    "from pathlib import Path\n",
    "from typing import Dict, List, Sequence\n",
    "\n",
    "from pydantic import BaseModel\n",
    "from strictyaml import YAML, load\n",
    "\n",
    "import regression_model"
   ]
  },
  {
   "cell_type": "code",
   "execution_count": 23,
   "metadata": {},
   "outputs": [],
   "source": [
    "# Project Directories\n",
    "PACKAGE_ROOT = Path(regression_model.__file__).resolve().parent\n",
    "ROOT = PACKAGE_ROOT.parent\n",
    "CONFIG_FILE_PATH = PACKAGE_ROOT / \"config.yml\"\n",
    "DATASET_DIR = PACKAGE_ROOT / \"datasets\"\n",
    "TRAINED_MODEL_DIR = PACKAGE_ROOT / \"trained_models\""
   ]
  },
  {
   "cell_type": "code",
   "execution_count": 34,
   "metadata": {},
   "outputs": [
    {
     "data": {
      "text/plain": [
       "WindowsPath('C:/Users/Aiden/Documents/Data_Science_Stuff/sf_Data_Science_Stuff/Practice/Udemy_1/Code/deploying-ml-models/section-05-production-model-package/regression_model/__init__.py')"
      ]
     },
     "execution_count": 34,
     "metadata": {},
     "output_type": "execute_result"
    }
   ],
   "source": [
    "Path(regression_model.__file__).resolve()"
   ]
  },
  {
   "cell_type": "code",
   "execution_count": 32,
   "metadata": {},
   "outputs": [
    {
     "data": {
      "text/plain": [
       "WindowsPath('C:/Users/Aiden/Documents/Data_Science_Stuff/sf_Data_Science_Stuff/Practice/Udemy_1/Code/deploying-ml-models/section-05-production-model-package/regression_model')"
      ]
     },
     "execution_count": 32,
     "metadata": {},
     "output_type": "execute_result"
    }
   ],
   "source": [
    "Path(regression_model.__file__).resolve().parent"
   ]
  },
  {
   "cell_type": "code",
   "execution_count": 25,
   "metadata": {},
   "outputs": [
    {
     "data": {
      "text/plain": [
       "WindowsPath('C:/Users/Aiden/Documents/Data_Science_Stuff/sf_Data_Science_Stuff/Practice/Udemy_1/Code/deploying-ml-models/section-05-production-model-package/AIDEN_PLAYGROUND')"
      ]
     },
     "execution_count": 25,
     "metadata": {},
     "output_type": "execute_result"
    }
   ],
   "source": [
    "Path(\"AIDEN_PLAYGROUND\").resolve()"
   ]
  },
  {
   "cell_type": "code",
   "execution_count": 26,
   "metadata": {},
   "outputs": [
    {
     "data": {
      "text/plain": [
       "WindowsPath('C:/Users/Aiden/Documents/Data_Science_Stuff/sf_Data_Science_Stuff/Practice/Udemy_1/Code/deploying-ml-models/section-05-production-model-package')"
      ]
     },
     "execution_count": 26,
     "metadata": {},
     "output_type": "execute_result"
    }
   ],
   "source": [
    "Path(\"AIDEN_PLAYGROUND\").resolve().parent"
   ]
  },
  {
   "cell_type": "code",
   "execution_count": 27,
   "metadata": {},
   "outputs": [
    {
     "data": {
      "text/plain": [
       "WindowsPath('C:/Users/Aiden/Documents/Data_Science_Stuff/sf_Data_Science_Stuff/Practice/Udemy_1/Code/deploying-ml-models/section-05-production-model-package')"
      ]
     },
     "execution_count": 27,
     "metadata": {},
     "output_type": "execute_result"
    }
   ],
   "source": [
    "ROOT"
   ]
  },
  {
   "cell_type": "code",
   "execution_count": 28,
   "metadata": {},
   "outputs": [
    {
     "data": {
      "text/plain": [
       "WindowsPath('C:/Users/Aiden/Documents/Data_Science_Stuff/sf_Data_Science_Stuff/Practice/Udemy_1/Code/deploying-ml-models/section-05-production-model-package/regression_model/config.yml')"
      ]
     },
     "execution_count": 28,
     "metadata": {},
     "output_type": "execute_result"
    }
   ],
   "source": [
    "CONFIG_FILE_PATH"
   ]
  },
  {
   "cell_type": "code",
   "execution_count": 29,
   "metadata": {},
   "outputs": [
    {
     "data": {
      "text/plain": [
       "WindowsPath('C:/Users/Aiden/Documents/Data_Science_Stuff/sf_Data_Science_Stuff/Practice/Udemy_1/Code/deploying-ml-models/section-05-production-model-package/regression_model/datasets')"
      ]
     },
     "execution_count": 29,
     "metadata": {},
     "output_type": "execute_result"
    }
   ],
   "source": [
    "DATASET_DIR"
   ]
  },
  {
   "cell_type": "code",
   "execution_count": 30,
   "metadata": {},
   "outputs": [
    {
     "data": {
      "text/plain": [
       "WindowsPath('C:/Users/Aiden/Documents/Data_Science_Stuff/sf_Data_Science_Stuff/Practice/Udemy_1/Code/deploying-ml-models/section-05-production-model-package/regression_model/trained_models')"
      ]
     },
     "execution_count": 30,
     "metadata": {},
     "output_type": "execute_result"
    }
   ],
   "source": [
    "TRAINED_MODEL_DIR"
   ]
  },
  {
   "cell_type": "code",
   "execution_count": 35,
   "metadata": {},
   "outputs": [],
   "source": [
    "class AppConfig(BaseModel):\n",
    "    \"\"\"\n",
    "    Application-level config.\n",
    "    \"\"\"\n",
    "\n",
    "    package_name: str\n",
    "    training_data_file: str\n",
    "    test_data_file: str\n",
    "    pipeline_save_file: str"
   ]
  },
  {
   "cell_type": "code",
   "execution_count": 42,
   "metadata": {},
   "outputs": [],
   "source": [
    "class ModelConfig(BaseModel):\n",
    "    \"\"\"\n",
    "    All configuration relevant to model\n",
    "    training and feature engineering.\n",
    "    \"\"\"\n",
    "\n",
    "    target: str\n",
    "    variables_to_rename: Dict\n",
    "    features: List[str]\n",
    "    test_size: float\n",
    "    random_state: int\n",
    "    alpha: float\n",
    "    categorical_vars_with_na_frequent: List[str]\n",
    "    categorical_vars_with_na_missing: List[str]\n",
    "    numerical_vars_with_na: List[str]\n",
    "    temporal_vars: List[str]\n",
    "    ref_var: str\n",
    "    numericals_log_vars: Sequence[str]\n",
    "    binarize_vars: Sequence[str]\n",
    "    qual_vars: List[str]\n",
    "    exposure_vars: List[str]\n",
    "    finish_vars: List[str]\n",
    "    garage_vars: List[str]\n",
    "    categorical_vars: Sequence[str]\n",
    "    qual_mappings: Dict[str, int]\n",
    "    exposure_mappings: Dict[str, int]\n",
    "    garage_mappings: Dict[str, int]\n",
    "    finish_mappings: Dict[str, int]"
   ]
  },
  {
   "cell_type": "code",
   "execution_count": 43,
   "metadata": {},
   "outputs": [],
   "source": [
    "class Config(BaseModel):\n",
    "    \"\"\"Master config object.\"\"\"\n",
    "\n",
    "    app_config: AppConfig\n",
    "    model_config: ModelConfig"
   ]
  },
  {
   "cell_type": "code",
   "execution_count": 44,
   "metadata": {},
   "outputs": [],
   "source": [
    "def find_config_file() -> Path:\n",
    "    \"\"\"Locate the configuration file.\"\"\"\n",
    "    if CONFIG_FILE_PATH.is_file():\n",
    "        return CONFIG_FILE_PATH\n",
    "    raise Exception(f\"Config not found at {CONFIG_FILE_PATH!r}\")"
   ]
  },
  {
   "cell_type": "code",
   "execution_count": 45,
   "metadata": {},
   "outputs": [],
   "source": [
    "def fetch_config_from_yaml(cfg_path: Path = None) -> YAML:\n",
    "    \"\"\"Parse YAML containing the package configuration.\"\"\"\n",
    "\n",
    "    if not cfg_path:\n",
    "        cfg_path = find_config_file()\n",
    "\n",
    "    if cfg_path:\n",
    "        with open(cfg_path, \"r\") as conf_file:\n",
    "            parsed_config = load(conf_file.read())\n",
    "            return parsed_config\n",
    "    raise OSError(f\"Did not find config file at path: {cfg_path}\")"
   ]
  },
  {
   "cell_type": "code",
   "execution_count": 46,
   "metadata": {},
   "outputs": [],
   "source": [
    "def create_and_validate_config(parsed_config: YAML = None) -> Config:\n",
    "    \"\"\"Run validation on config values.\"\"\"\n",
    "    if parsed_config is None:\n",
    "        parsed_config = fetch_config_from_yaml()\n",
    "\n",
    "    # specify the data attribute from the strictyaml YAML type.\n",
    "    _config = Config(\n",
    "        app_config=AppConfig(**parsed_config.data),\n",
    "        model_config=ModelConfig(**parsed_config.data),\n",
    "    )\n",
    "\n",
    "    return _config"
   ]
  },
  {
   "cell_type": "code",
   "execution_count": null,
   "metadata": {},
   "outputs": [],
   "source": [
    "config = create_and_validate_config()"
   ]
  },
  {
   "cell_type": "code",
   "execution_count": null,
   "metadata": {},
   "outputs": [],
   "source": []
  },
  {
   "cell_type": "code",
   "execution_count": 54,
   "metadata": {},
   "outputs": [],
   "source": [
    "parsed_config = fetch_config_from_yaml()"
   ]
  },
  {
   "cell_type": "code",
   "execution_count": 57,
   "metadata": {},
   "outputs": [
    {
     "data": {
      "text/plain": [
       "YAML({'package_name': 'regression_model', 'training_data_file': 'train.csv', 'test_data_file': 'test.csv', 'target': 'SalePrice', 'pipeline_name': 'regression_model', 'pipeline_save_file': 'regression_model_output_v', 'variables_to_rename': {'1stFlrSF': 'FirstFlrSF', '2ndFlrSF': 'SecondFlrSF', '3SsnPorch': 'ThreeSsnPortch'}, 'features': ['MSSubClass', 'MSZoning', 'LotFrontage', 'LotShape', 'LandContour', 'LotConfig', 'Neighborhood', 'OverallQual', 'OverallCond', 'YearRemodAdd', 'RoofStyle', 'Exterior1st', 'ExterQual', 'Foundation', 'BsmtQual', 'BsmtExposure', 'BsmtFinType1', 'HeatingQC', 'CentralAir', 'FirstFlrSF', 'SecondFlrSF', 'GrLivArea', 'BsmtFullBath', 'HalfBath', 'KitchenQual', 'TotRmsAbvGrd', 'Functional', 'Fireplaces', 'FireplaceQu', 'GarageFinish', 'GarageCars', 'GarageArea', 'PavedDrive', 'WoodDeckSF', 'ScreenPorch', 'SaleCondition', 'YrSold'], 'test_size': '0.1', 'random_state': '0', 'alpha': '0.001', 'categorical_vars_with_na_frequent': ['BsmtQual', 'BsmtExposure', 'BsmtFinType1', 'GarageFinish'], 'categorical_vars_with_na_missing': ['FireplaceQu'], 'numerical_vars_with_na': ['LotFrontage'], 'temporal_vars': ['YearRemodAdd'], 'ref_var': 'YrSold', 'numericals_log_vars': ['LotFrontage', 'FirstFlrSF', 'GrLivArea'], 'binarize_vars': ['ScreenPorch'], 'qual_vars': ['ExterQual', 'BsmtQual', 'HeatingQC', 'KitchenQual', 'FireplaceQu'], 'exposure_vars': ['BsmtExposure'], 'finish_vars': ['BsmtFinType1'], 'garage_vars': ['GarageFinish'], 'categorical_vars': ['MSSubClass', 'MSZoning', 'LotShape', 'LandContour', 'LotConfig', 'Neighborhood', 'RoofStyle', 'Exterior1st', 'Foundation', 'CentralAir', 'Functional', 'PavedDrive', 'SaleCondition'], 'qual_mappings': {'Po': '1', 'Fa': '2', 'TA': '3', 'Gd': '4', 'Ex': '5', 'Missing': '0', 'NA': '0'}, 'exposure_mappings': {'No': '1', 'Mn': '2', 'Av': '3', 'Gd': '4'}, 'finish_mappings': {'Missing': '0', 'NA': '0', 'Unf': '1', 'LwQ': '2', 'Rec': '3', 'BLQ': '4', 'ALQ': '5', 'GLQ': '6'}, 'garage_mappings': {'Missing': '0', 'NA': '0', 'Unf': '1', 'RFn': '2', 'Fin': '3'}})"
      ]
     },
     "execution_count": 57,
     "metadata": {},
     "output_type": "execute_result"
    }
   ],
   "source": [
    "parsed_config"
   ]
  },
  {
   "cell_type": "code",
   "execution_count": 73,
   "metadata": {},
   "outputs": [],
   "source": [
    "app_config = AppConfig(**parsed_config.data)"
   ]
  },
  {
   "cell_type": "code",
   "execution_count": 76,
   "metadata": {},
   "outputs": [
    {
     "data": {
      "text/plain": [
       "AppConfig(package_name='regression_model', training_data_file='train.csv', test_data_file='test.csv', pipeline_save_file='regression_model_output_v')"
      ]
     },
     "execution_count": 76,
     "metadata": {},
     "output_type": "execute_result"
    }
   ],
   "source": [
    "app_config"
   ]
  },
  {
   "cell_type": "code",
   "execution_count": 82,
   "metadata": {},
   "outputs": [
    {
     "data": {
      "text/plain": [
       "<bound method BaseModel.schema of <class 'pydantic.main.BaseModel'>>"
      ]
     },
     "execution_count": 82,
     "metadata": {},
     "output_type": "execute_result"
    }
   ],
   "source": []
  },
  {
   "cell_type": "code",
   "execution_count": null,
   "metadata": {},
   "outputs": [],
   "source": []
  }
 ],
 "metadata": {
  "kernelspec": {
   "display_name": "Python 3",
   "language": "python",
   "name": "python3"
  },
  "language_info": {
   "codemirror_mode": {
    "name": "ipython",
    "version": 3
   },
   "file_extension": ".py",
   "mimetype": "text/x-python",
   "name": "python",
   "nbconvert_exporter": "python",
   "pygments_lexer": "ipython3",
   "version": "3.8.5"
  }
 },
 "nbformat": 4,
 "nbformat_minor": 5
}
