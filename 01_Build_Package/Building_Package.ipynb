{
 "cells": [
  {
   "cell_type": "markdown",
   "metadata": {},
   "source": [
    "### Setup File Confguration "
   ]
  },
  {
   "cell_type": "markdown",
   "metadata": {},
   "source": [
    "This notebook converts the code from the Setup.py file in Section 5 of the Udemy course that uses pathlib, into code that is compatible with OS"
   ]
  },
  {
   "cell_type": "code",
   "execution_count": 1,
   "metadata": {},
   "outputs": [],
   "source": [
    "# Package meta-data.\n",
    "NAME = 'sports-news-classifier'\n",
    "DESCRIPTION = \"Logistic regression model to classify sports news headline\"\n",
    "URL = \"https://www.linkedin.com/in/aidenaslam\"\n",
    "EMAIL = \"aidenaslam@gmail.com\"\n",
    "AUTHOR = \"Aiden Aslam\"\n",
    "REQUIRES_PYTHON = \">=3.6.0\"\n",
    "\n",
    "\n",
    "# The rest you shouldn't have to touch too much :)\n",
    "# ------------------------------------------------\n",
    "# Except, perhaps the License and Trove Classifiers!\n",
    "# If you do change the License, remember to change the\n",
    "# Trove Classifier for that!\n",
    "long_description = DESCRIPTION"
   ]
  },
  {
   "cell_type": "code",
   "execution_count": 2,
   "metadata": {},
   "outputs": [],
   "source": [
    "# Load the package's VERSION file as a dictionary.\n",
    "about = {}"
   ]
  },
  {
   "cell_type": "markdown",
   "metadata": {},
   "source": [
    "### Using pathlib"
   ]
  },
  {
   "cell_type": "code",
   "execution_count": 3,
   "metadata": {},
   "outputs": [],
   "source": [
    "from pathlib import Path\n",
    "\n",
    "from setuptools import find_packages, setup"
   ]
  },
  {
   "cell_type": "code",
   "execution_count": 4,
   "metadata": {},
   "outputs": [],
   "source": [
    "ROOT_DIR = Path(\"Building_Package.ipynb\").resolve().parent"
   ]
  },
  {
   "cell_type": "code",
   "execution_count": 5,
   "metadata": {},
   "outputs": [
    {
     "data": {
      "text/plain": [
       "WindowsPath('C:/Users/Aiden/Documents/Data_Science_Stuff/sf_Data_Science_Stuff/Projects/06_ML_Deployment/01_Build_Package')"
      ]
     },
     "execution_count": 5,
     "metadata": {},
     "output_type": "execute_result"
    }
   ],
   "source": [
    "ROOT_DIR"
   ]
  },
  {
   "cell_type": "code",
   "execution_count": 6,
   "metadata": {},
   "outputs": [],
   "source": [
    "REQUIREMENTS_DIR = ROOT_DIR / 'requirements'"
   ]
  },
  {
   "cell_type": "code",
   "execution_count": 7,
   "metadata": {},
   "outputs": [
    {
     "data": {
      "text/plain": [
       "WindowsPath('C:/Users/Aiden/Documents/Data_Science_Stuff/sf_Data_Science_Stuff/Projects/06_ML_Deployment/01_Build_Package/requirements')"
      ]
     },
     "execution_count": 7,
     "metadata": {},
     "output_type": "execute_result"
    }
   ],
   "source": [
    "REQUIREMENTS_DIR"
   ]
  },
  {
   "cell_type": "code",
   "execution_count": 8,
   "metadata": {},
   "outputs": [],
   "source": [
    "PACKAGE_DIR = ROOT_DIR / 'logistic_regression_model'"
   ]
  },
  {
   "cell_type": "code",
   "execution_count": 9,
   "metadata": {},
   "outputs": [
    {
     "data": {
      "text/plain": [
       "WindowsPath('C:/Users/Aiden/Documents/Data_Science_Stuff/sf_Data_Science_Stuff/Projects/06_ML_Deployment/01_Build_Package/logistic_regression_model')"
      ]
     },
     "execution_count": 9,
     "metadata": {},
     "output_type": "execute_result"
    }
   ],
   "source": [
    "PACKAGE_DIR"
   ]
  },
  {
   "cell_type": "code",
   "execution_count": 10,
   "metadata": {},
   "outputs": [],
   "source": [
    "with open(PACKAGE_DIR / \"VERSION\") as f:\n",
    "    _version = f.read().strip()\n",
    "    about[\"__version__\"] = _version"
   ]
  },
  {
   "cell_type": "code",
   "execution_count": 11,
   "metadata": {},
   "outputs": [
    {
     "data": {
      "text/plain": [
       "{'__version__': '1.0.0'}"
      ]
     },
     "execution_count": 11,
     "metadata": {},
     "output_type": "execute_result"
    }
   ],
   "source": [
    "about"
   ]
  },
  {
   "cell_type": "markdown",
   "metadata": {},
   "source": [
    "### Using OS"
   ]
  },
  {
   "cell_type": "code",
   "execution_count": 19,
   "metadata": {},
   "outputs": [],
   "source": [
    "import os\n",
    "from setuptools import find_packages, setup"
   ]
  },
  {
   "cell_type": "code",
   "execution_count": 20,
   "metadata": {},
   "outputs": [],
   "source": [
    "ROOT_DIR = os.getcwd()"
   ]
  },
  {
   "cell_type": "code",
   "execution_count": 22,
   "metadata": {},
   "outputs": [
    {
     "data": {
      "text/plain": [
       "'C:\\\\Users\\\\Aiden\\\\Documents\\\\Data_Science_Stuff\\\\sf_Data_Science_Stuff\\\\Projects\\\\06_ML_Deployment'"
      ]
     },
     "execution_count": 22,
     "metadata": {},
     "output_type": "execute_result"
    }
   ],
   "source": [
    "ROOT_DIR"
   ]
  },
  {
   "cell_type": "code",
   "execution_count": 24,
   "metadata": {},
   "outputs": [],
   "source": [
    "REQUIREMENTS_DIR = os.path.join(ROOT_DIR, 'requirements')"
   ]
  },
  {
   "cell_type": "code",
   "execution_count": 25,
   "metadata": {},
   "outputs": [
    {
     "data": {
      "text/plain": [
       "'C:\\\\Users\\\\Aiden\\\\Documents\\\\Data_Science_Stuff\\\\sf_Data_Science_Stuff\\\\Projects\\\\06_ML_Deployment\\\\requirements'"
      ]
     },
     "execution_count": 25,
     "metadata": {},
     "output_type": "execute_result"
    }
   ],
   "source": [
    "REQUIREMENTS_DIR"
   ]
  },
  {
   "cell_type": "code",
   "execution_count": 26,
   "metadata": {},
   "outputs": [],
   "source": [
    "PACKAGE_DIR = os.path.join(ROOT_DIR, 'logistic_regression_model')"
   ]
  },
  {
   "cell_type": "code",
   "execution_count": 27,
   "metadata": {},
   "outputs": [
    {
     "data": {
      "text/plain": [
       "'C:\\\\Users\\\\Aiden\\\\Documents\\\\Data_Science_Stuff\\\\sf_Data_Science_Stuff\\\\Projects\\\\06_ML_Deployment\\\\logistic_regression_model'"
      ]
     },
     "execution_count": 27,
     "metadata": {},
     "output_type": "execute_result"
    }
   ],
   "source": [
    "PACKAGE_DIR"
   ]
  },
  {
   "cell_type": "code",
   "execution_count": 29,
   "metadata": {},
   "outputs": [],
   "source": [
    "with open(os.path.join(PACKAGE_DIR, \"VERSION\")) as f:\n",
    "    _version = f.read().strip()\n",
    "    about[\"__version__\"] = _version"
   ]
  },
  {
   "cell_type": "code",
   "execution_count": 30,
   "metadata": {},
   "outputs": [
    {
     "data": {
      "text/plain": [
       "{'__version__': '1.0.0'}"
      ]
     },
     "execution_count": 30,
     "metadata": {},
     "output_type": "execute_result"
    }
   ],
   "source": [
    "about"
   ]
  },
  {
   "cell_type": "code",
   "execution_count": null,
   "metadata": {},
   "outputs": [],
   "source": [
    "# What packages are required for this module to be executed?\n",
    "def list_reqs(fname=\"requirements.txt\"):\n",
    "    with open(os.path.join(REQUIREMENTS_DIR, fname)) as fd:\n",
    "        return fd.read().splitlines()"
   ]
  }
 ],
 "metadata": {
  "kernelspec": {
   "display_name": "Python 3",
   "language": "python",
   "name": "python3"
  },
  "language_info": {
   "codemirror_mode": {
    "name": "ipython",
    "version": 3
   },
   "file_extension": ".py",
   "mimetype": "text/x-python",
   "name": "python",
   "nbconvert_exporter": "python",
   "pygments_lexer": "ipython3",
   "version": "3.8.5"
  }
 },
 "nbformat": 4,
 "nbformat_minor": 4
}
