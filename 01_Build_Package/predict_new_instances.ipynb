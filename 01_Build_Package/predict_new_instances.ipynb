{
 "cells": [
  {
   "cell_type": "code",
   "execution_count": 1,
   "metadata": {},
   "outputs": [],
   "source": [
    "import os\n",
    "\n",
    "import pandas as pd\n",
    "from joblib import dump\n",
    "\n",
    "from logistic_regression_model.data_prep.data_processing import (\n",
    "    data_processing,\n",
    "    rename_class,\n",
    "    split_dataset,\n",
    ")\n",
    "from logistic_regression_model.evaluation.model_evaluation import (\n",
    "    confusion_matrix,\n",
    "    cross_validation,\n",
    ")\n",
    "from logistic_regression_model.modelling_evaluation.build_models import (\n",
    "    logistic_reg_model,\n",
    ")\n",
    "from logistic_regression_model.parameters.project_parameters import (\n",
    "    training_dataset_path,\n",
    "    save_models,\n",
    ")\n"
   ]
  },
  {
   "cell_type": "markdown",
   "metadata": {},
   "source": [
    "### Build Model"
   ]
  },
  {
   "cell_type": "code",
   "execution_count": 2,
   "metadata": {
    "scrolled": true
   },
   "outputs": [
    {
     "name": "stdout",
     "output_type": "stream",
     "text": [
      "Loading data\n",
      "Processing data for machine learning...\n",
      "Data processing complete\n",
      "Building machine learning model...\n",
      "Performing stratified cross-validation...\n",
      "['Logistic Reg (baseline)']: mean: 0.788971 std dev: (0.040347)\n",
      "Saving confusion matrix...\n"
     ]
    }
   ],
   "source": [
    "# scrape data\n",
    "print(\"Loading data\")\n",
    "dataset_combined = pd.read_csv(training_dataset_path)\n",
    "\n",
    "# process_datasets\n",
    "print(\"Processing data for machine learning...\")\n",
    "dataset_combined = rename_class(dataset_combined)\n",
    "X_vec, y = data_processing(dataset_combined)\n",
    "\n",
    "# Split into training and testing (0.3 for testing)\n",
    "X_train, X_test, y_train, y_test = split_dataset(X_vec, y, 0.3)\n",
    "print(\"Data processing complete\")\n",
    "\n",
    "# Build machine learning models\n",
    "print(\"Building machine learning model...\")\n",
    "log_reg = logistic_reg_model(X_train, y_train)\n",
    "\n",
    "# cross validation\n",
    "print(\"Performing stratified cross-validation...\")\n",
    "models = (\"Logistic Reg (baseline)\", log_reg)\n",
    "cross_validation(models, X_train, y_train, 10)\n",
    "\n",
    "# confusion matrix\n",
    "print(\"Saving confusion matrix...\")\n",
    "#confusion_matrix(log_reg, X_train, y_train, \"logistic_regression\")\n",
    "\n",
    "# Save model to saved_models folder\n",
    "#print(\"Saving model\")\n",
    "#pkl_filename = \"final_model.joblib\"\n",
    "#with open(os.path.join(save_models, pkl_filename), \"wb\") as file:\n",
    " #   dump(log_reg, file)\n"
   ]
  },
  {
   "cell_type": "markdown",
   "metadata": {},
   "source": [
    "### Predict New Instances "
   ]
  },
  {
   "cell_type": "code",
   "execution_count": 1,
   "metadata": {},
   "outputs": [],
   "source": [
    "import pickle\n",
    "import typing as t\n",
    "from typing import List, Optional, Tuple\n",
    "\n",
    "import joblib\n",
    "import pandas as pd\n",
    "from sklearn.feature_extraction.text import CountVectorizer\n",
    "import numpy as np\n",
    "\n",
    "#from logistic_regression_model.data_prep.validation import validate_inputs\n",
    "from logistic_regression_model.parameters.project_parameters import (\n",
    "    file_path_model,\n",
    "    file_path_tfidf,\n",
    "    file_path_vec,\n",
    ")"
   ]
  },
  {
   "cell_type": "code",
   "execution_count": 2,
   "metadata": {},
   "outputs": [],
   "source": [
    "# Load trained model and vocabs to make predictions\n",
    "trained_model = joblib.load(filename=file_path_model)\n",
    "loaded_vec = CountVectorizer(vocabulary=pickle.load(open(file_path_vec, \"rb\")))\n",
    "loaded_tfidf = pickle.load(open(file_path_tfidf, \"rb\"))"
   ]
  },
  {
   "cell_type": "code",
   "execution_count": 37,
   "metadata": {},
   "outputs": [],
   "source": [
    "def make_prediction(\n",
    "    *,\n",
    "    input_data: t.Union[pd.DataFrame, dict],\n",
    ") -> dict:\n",
    "    \"\"\" Makes a prediction for dataframe of headlines\"\"\"\n",
    "\n",
    "    # Make sure data is dataframe\n",
    "    data = pd.DataFrame(input_data, columns={\"Headline\"})\n",
    "\n",
    "    # Validate feature\n",
    "    validated_data, errors = validate_inputs(input_data=data)\n",
    "\n",
    "    # Placeholder for predictions\n",
    "    results = {\"predictions\": None, \"errors\": errors}\n",
    "\n",
    "    if not errors:\n",
    "        validated_data_headlines = validated_data[\"Headline\"].values.tolist()\n",
    "        X_new_counts = loaded_vec.transform(validated_data_headlines)\n",
    "        X_new_tfidf = loaded_tfidf.transform(X_new_counts)\n",
    "        predictions = list(trained_model.predict(X_new_tfidf))\n",
    "        #predictions = predictions[0]\n",
    "\n",
    "        results = {\"predictions\": predictions, \"errors\": errors}\n",
    "\n",
    "    return results"
   ]
  },
  {
   "cell_type": "code",
   "execution_count": 38,
   "metadata": {},
   "outputs": [],
   "source": [
    "def validate_inputs(*, input_data: pd.DataFrame) -> Tuple[pd.DataFrame, Optional[dict]]:\n",
    "    \n",
    "    validated_data = input_data\n",
    "    errors = None\n",
    "\n",
    "    try:\n",
    "        # replace numpy nans so that pydantic can validate\n",
    "        MultipleHouseDataInputs(\n",
    "            inputs=validated_data.replace({np.nan: None}).to_dict(orient=\"records\")\n",
    "        )\n",
    "    except ValidationError as error:\n",
    "        errors = error.json()\n",
    "\n",
    "    return validated_data, errors"
   ]
  },
  {
   "cell_type": "code",
   "execution_count": 39,
   "metadata": {},
   "outputs": [],
   "source": [
    "from pydantic import BaseModel, ValidationError\n",
    "from typing import List, Optional, Tuple"
   ]
  },
  {
   "cell_type": "code",
   "execution_count": 40,
   "metadata": {},
   "outputs": [],
   "source": [
    "class HouseDataInputSchema(BaseModel):\n",
    "    Headline: Optional[str]"
   ]
  },
  {
   "cell_type": "code",
   "execution_count": 41,
   "metadata": {},
   "outputs": [],
   "source": [
    "class MultipleHouseDataInputs(BaseModel):\n",
    "    inputs: List[HouseDataInputSchema]\n",
    "        \n",
    "    class Config:\n",
    "        schema_extra = {\n",
    "            \"example\": {\n",
    "                \"inputs\": [\n",
    "                    {\n",
    "                        \"Headline\": \"Englands Alexander-Arnold out of Euro 2020\"\n",
    "                        \n",
    "                    } \n",
    "                    ]\n",
    "                \n",
    "            }\n",
    "        }"
   ]
  },
  {
   "cell_type": "code",
   "execution_count": 42,
   "metadata": {},
   "outputs": [],
   "source": [
    "input_data_example = [\"England win the Euros\"]"
   ]
  },
  {
   "cell_type": "code",
   "execution_count": 43,
   "metadata": {},
   "outputs": [],
   "source": [
    "from fastapi.encoders import jsonable_encoder"
   ]
  },
  {
   "cell_type": "code",
   "execution_count": 44,
   "metadata": {},
   "outputs": [],
   "source": [
    "input_df = pd.DataFrame(jsonable_encoder(input_data_example), columns = {\"Headline\"})"
   ]
  },
  {
   "cell_type": "code",
   "execution_count": 45,
   "metadata": {},
   "outputs": [
    {
     "data": {
      "text/html": [
       "<div>\n",
       "<style scoped>\n",
       "    .dataframe tbody tr th:only-of-type {\n",
       "        vertical-align: middle;\n",
       "    }\n",
       "\n",
       "    .dataframe tbody tr th {\n",
       "        vertical-align: top;\n",
       "    }\n",
       "\n",
       "    .dataframe thead th {\n",
       "        text-align: right;\n",
       "    }\n",
       "</style>\n",
       "<table border=\"1\" class=\"dataframe\">\n",
       "  <thead>\n",
       "    <tr style=\"text-align: right;\">\n",
       "      <th></th>\n",
       "      <th>Headline</th>\n",
       "    </tr>\n",
       "  </thead>\n",
       "  <tbody>\n",
       "    <tr>\n",
       "      <th>0</th>\n",
       "      <td>England win the Euros</td>\n",
       "    </tr>\n",
       "  </tbody>\n",
       "</table>\n",
       "</div>"
      ],
      "text/plain": [
       "                Headline\n",
       "0  England win the Euros"
      ]
     },
     "execution_count": 45,
     "metadata": {},
     "output_type": "execute_result"
    }
   ],
   "source": [
    "input_df"
   ]
  },
  {
   "cell_type": "code",
   "execution_count": 46,
   "metadata": {},
   "outputs": [],
   "source": [
    "results = make_prediction(input_data=input_df)"
   ]
  },
  {
   "cell_type": "code",
   "execution_count": 47,
   "metadata": {},
   "outputs": [
    {
     "data": {
      "text/plain": [
       "{'predictions': ['cricket'], 'errors': None}"
      ]
     },
     "execution_count": 47,
     "metadata": {},
     "output_type": "execute_result"
    }
   ],
   "source": [
    "results"
   ]
  },
  {
   "cell_type": "code",
   "execution_count": 48,
   "metadata": {},
   "outputs": [
    {
     "data": {
      "text/plain": [
       "list"
      ]
     },
     "execution_count": 48,
     "metadata": {},
     "output_type": "execute_result"
    }
   ],
   "source": [
    "type(results['predictions'])"
   ]
  },
  {
   "cell_type": "code",
   "execution_count": 49,
   "metadata": {},
   "outputs": [
    {
     "data": {
      "text/plain": [
       "dict"
      ]
     },
     "execution_count": 49,
     "metadata": {},
     "output_type": "execute_result"
    }
   ],
   "source": [
    "type(results)"
   ]
  },
  {
   "cell_type": "code",
   "execution_count": 21,
   "metadata": {},
   "outputs": [
    {
     "data": {
      "text/plain": [
       "{'predictions': 'cricket', 'errors': None}"
      ]
     },
     "execution_count": 21,
     "metadata": {},
     "output_type": "execute_result"
    }
   ],
   "source": [
    "results"
   ]
  },
  {
   "cell_type": "markdown",
   "metadata": {},
   "source": [
    "### Predict for FastAPI "
   ]
  },
  {
   "cell_type": "code",
   "execution_count": 2,
   "metadata": {},
   "outputs": [],
   "source": [
    "import requests"
   ]
  },
  {
   "cell_type": "code",
   "execution_count": 1,
   "metadata": {},
   "outputs": [],
   "source": [
    "headline = {\n",
    "  \"inputs\": [\n",
    "    {\n",
    "      \"Headline\": \"f1 is good\"\n",
    "    }\n",
    "  ]\n",
    "}"
   ]
  },
  {
   "cell_type": "code",
   "execution_count": 153,
   "metadata": {},
   "outputs": [],
   "source": [
    "response = requests.post(\"http://localhost:8001/api/v1/predict/\", json=headline)"
   ]
  },
  {
   "cell_type": "code",
   "execution_count": 154,
   "metadata": {},
   "outputs": [
    {
     "data": {
      "text/plain": [
       "{'errors': None, 'predictions': ['f1']}"
      ]
     },
     "execution_count": 154,
     "metadata": {},
     "output_type": "execute_result"
    }
   ],
   "source": [
    "response.json()"
   ]
  },
  {
   "cell_type": "markdown",
   "metadata": {},
   "source": [
    "### Predict for Heroku "
   ]
  },
  {
   "cell_type": "code",
   "execution_count": 3,
   "metadata": {},
   "outputs": [],
   "source": [
    "response = requests.post(\"https://floating-anchorage-18633.herokuapp.com/api/v1/predict/\", json=headline)"
   ]
  },
  {
   "cell_type": "code",
   "execution_count": 4,
   "metadata": {},
   "outputs": [
    {
     "data": {
      "text/plain": [
       "{'errors': None, 'predictions': ['f1']}"
      ]
     },
     "execution_count": 4,
     "metadata": {},
     "output_type": "execute_result"
    }
   ],
   "source": [
    "response.json()"
   ]
  }
 ],
 "metadata": {
  "kernelspec": {
   "display_name": "Python 3",
   "language": "python",
   "name": "python3"
  },
  "language_info": {
   "codemirror_mode": {
    "name": "ipython",
    "version": 3
   },
   "file_extension": ".py",
   "mimetype": "text/x-python",
   "name": "python",
   "nbconvert_exporter": "python",
   "pygments_lexer": "ipython3",
   "version": "3.8.5"
  }
 },
 "nbformat": 4,
 "nbformat_minor": 4
}
